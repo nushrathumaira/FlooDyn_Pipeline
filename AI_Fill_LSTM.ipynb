{
 "cells": [
  {
   "cell_type": "code",
   "execution_count": null,
   "metadata": {},
   "outputs": [],
   "source": [
    "\"\"\"\n",
    "@author: Nushrat\n",
    "\"\"\""
   ]
  },
  {
   "cell_type": "code",
   "execution_count": null,
   "metadata": {},
   "outputs": [],
   "source": [
    "get_ipython().magic('pylab inline')\n"
   ]
  },
  {
   "cell_type": "code",
   "execution_count": null,
   "metadata": {},
   "outputs": [],
   "source": [
    "import datetime\n",
    "import seaborn as sns\n",
    "import numpy as np\n",
    "import pandas as pd\n",
    "from sklearn.preprocessing import StandardScaler\n",
    "from keras.models import Sequential\n",
    "from keras.layers import Dense\n",
    "import keras"
   ]
  },
  {
   "cell_type": "code",
   "execution_count": null,
   "metadata": {},
   "outputs": [],
   "source": [
    "#TodasEstaciones = pd.read_csv('merged.csv',skipinitialspace=True, comment=\"#\", sep=',', index_col=0, parse_dates=True)\n",
    "TodasEstaciones = pd.read_csv('merged_new.csv',skipinitialspace=True, comment=\"#\", sep=';', index_col=0, parse_dates=True)\n",
    "TodasEstaciones"
   ]
  },
  {
   "cell_type": "code",
   "execution_count": null,
   "metadata": {},
   "outputs": [],
   "source": [
    "#selected_TodasEstaciones= TodasEstaciones.loc['2017-01-01':'2018-01-01',['Value_y.1','Value_y.2','y1','x1','x2']]\n",
    "selected_TodasEstaciones= TodasEstaciones.loc['1968-05-01':'1972-10-31',['Value_x','Value_y','Value_x.1','Value_y.1','Value']]\n",
    "selected_TodasEstaciones"
   ]
  },
  {
   "cell_type": "code",
   "execution_count": null,
   "metadata": {},
   "outputs": [],
   "source": [
    "#selected_TodasEstaciones['date']=selected_TodasEstaciones.index\n",
    "dates = selected_TodasEstaciones.index.values.tolist()\n",
    "#print(dates)\n",
    "selected_TodasEstaciones.head()"
   ]
  },
  {
   "cell_type": "code",
   "execution_count": null,
   "metadata": {},
   "outputs": [],
   "source": [
    "import datetime\n",
    "#we create a date column to extract the week number\n",
    "TodasEstaciones['date']=TodasEstaciones.index\n",
    "TodasEstaciones.head()\n",
    "for col in TodasEstaciones.columns: \n",
    "    print(col)"
   ]
  },
  {
   "cell_type": "code",
   "execution_count": null,
   "metadata": {},
   "outputs": [],
   "source": [
    "########################################LSTM code starts#######################"
   ]
  },
  {
   "cell_type": "code",
   "execution_count": null,
   "metadata": {},
   "outputs": [],
   "source": [
    "plt.figure(figsize=(12, 6))\n",
    "sns.heatmap(selected_TodasEstaciones.isnull())\n",
    "plt.show()\n",
    "\n"
   ]
  },
  {
   "cell_type": "code",
   "execution_count": null,
   "metadata": {},
   "outputs": [],
   "source": [
    "############trying LSTM\n",
    "from sklearn.preprocessing import MinMaxScaler\n",
    "\n",
    "selected_TodasEstaciones.dropna(inplace=True)\n",
    "#print(selected_TodasEstaciones.head())\n",
    "dataset = selected_TodasEstaciones.copy()\n",
    "dataset.reset_index(inplace=True, drop=True)\n",
    "scaler = MinMaxScaler()\n",
    "\n",
    "#reshape  = ['Value_y.1','Value_y.2','y1','x1','x2']\n",
    "reshape = ['Value_x','Value_y','Value_x.1','Value_y.1','Value']\n",
    "dataset[reshape] = scaler.fit_transform(dataset[reshape])\n",
    "#dataset = scaler.fit_transform(dataset)"
   ]
  },
  {
   "cell_type": "code",
   "execution_count": null,
   "metadata": {},
   "outputs": [],
   "source": [
    "dataset"
   ]
  },
  {
   "cell_type": "code",
   "execution_count": null,
   "metadata": {},
   "outputs": [],
   "source": [
    "#from sklearn.model_selection import train_test_split\n",
    "#X_train, X_test =train_test_split(dataset , train_size = 0.75 , random_state = 38)"
   ]
  },
  {
   "cell_type": "code",
   "execution_count": null,
   "metadata": {},
   "outputs": [],
   "source": [
    "rate = 0.75  \n",
    "tst_train_len = int(len(dataset)*rate)\n",
    "tst_test_len = len(dataset) - tst_train_len\n",
    "print(tst_train_len)\n",
    "train, test = dataset.loc[0:tst_train_len,:],dataset.loc[tst_train_len:len(dataset),:]\n",
    "#dataset.loc[30317,:]\n",
    "#print(range(len(test)-look_back-1))\n",
    "#test[1,:]"
   ]
  },
  {
   "cell_type": "code",
   "execution_count": null,
   "metadata": {},
   "outputs": [],
   "source": [
    "dataset.index"
   ]
  },
  {
   "cell_type": "code",
   "execution_count": null,
   "metadata": {},
   "outputs": [],
   "source": [
    "def create_dataset(dataset, look_back=1):\n",
    "    dataX, dataY = [], []\n",
    "    print(range(len(dataset)-look_back-1))\n",
    "    for i in range(len(dataset)-look_back-1):\n",
    "        a = np.array(dataset.loc[i:(i+look_back), :])        \n",
    "        dataX.append(a)\n",
    "        #print(i+look_back)\n",
    "        #dataset.loc[i + look_back, :]\n",
    "        dataY.append(np.array(dataset.loc[i + look_back, :]))\n",
    "    return np.array(dataX), np.array(dataY)"
   ]
  },
  {
   "cell_type": "code",
   "execution_count": null,
   "metadata": {},
   "outputs": [],
   "source": [
    "def create_dataset2(dataset, look_back=1, ofs=0):\n",
    "    dataX, dataY = [], []\n",
    "    for i in range(ofs,len(dataset)-look_back-1+ofs):\n",
    "        a = np.array(dataset.loc[i:(i+look_back), :])                  \n",
    "        dataX.append(a)\n",
    "        dataY.append(np.array(dataset.loc[i + look_back , :]))\n",
    "    return np.array(dataX), np.array(dataY)"
   ]
  },
  {
   "cell_type": "code",
   "execution_count": null,
   "metadata": {},
   "outputs": [],
   "source": [
    "from keras.models import Sequential\n",
    "from keras.layers import Dense, LSTM\n",
    "from keras.callbacks import ModelCheckpoint\n",
    "look_back = 3\n",
    "trainX, trainY = create_dataset(train,look_back)\n",
    "\n",
    "#testX, testY = create_dataset(test,look_back)"
   ]
  },
  {
   "cell_type": "code",
   "execution_count": null,
   "metadata": {},
   "outputs": [],
   "source": [
    "print(len(test))\n",
    "test.reset_index(inplace=True,drop=True)\n",
    "print(test.index)\n",
    "#test.loc[0,:]"
   ]
  },
  {
   "cell_type": "code",
   "execution_count": null,
   "metadata": {},
   "outputs": [],
   "source": [
    "testX, testY = create_dataset(test,look_back)\n",
    "#testX, testY = create_dataset2(test,look_back,1108)"
   ]
  },
  {
   "cell_type": "code",
   "execution_count": null,
   "metadata": {},
   "outputs": [],
   "source": [
    "cnt_perc = 4\n",
    "cnt_epoch = 300\n",
    "bz = 1\n",
    "model = Sequential()\n",
    "model.add(LSTM(cnt_perc, input_shape=(look_back+1,5)))\n",
    "model.add(Dense(5))\n",
    "model.summary()\n",
    "opt = keras.optimizers.Adam(learning_rate=0.001)\n",
    "model.compile(loss='mean_squared_error', optimizer=opt) # put learning rate\n",
    "model.fit(trainX, trainY, epochs=cnt_epoch, batch_size=bz)\n",
    "trainPredict = scaler.inverse_transform(model.predict(trainX))\n",
    "testPredict = scaler.inverse_transform(model.predict(testX))"
   ]
  },
  {
   "cell_type": "code",
   "execution_count": null,
   "metadata": {},
   "outputs": [],
   "source": [
    "dataset = selected_TodasEstaciones.copy()\n",
    "dataset.reset_index(inplace=True, drop=True)\n",
    "scaler = MinMaxScaler()\n",
    "\n",
    "reshape  = ['Value_x','Value_y','Value_x.1','Value_y.1','Value']\n",
    "\n",
    "dataset[reshape] = scaler.fit_transform(dataset[reshape])\n",
    "original = scaler.inverse_transform(dataset)\n",
    "print (original[0:10,:])\n",
    "selected_TodasEstaciones.head(10)"
   ]
  },
  {
   "cell_type": "code",
   "execution_count": null,
   "metadata": {},
   "outputs": [],
   "source": [
    "trainPredict = np.round(scaler.inverse_transform(model.predict(trainX)))\n",
    "testPredict = scaler.inverse_transform(model.predict(testX))"
   ]
  },
  {
   "cell_type": "code",
   "execution_count": null,
   "metadata": {},
   "outputs": [],
   "source": [
    "print (len(original))\n",
    "print (len(trainX))\n",
    "print (len(trainX)+(look_back*2)+1)"
   ]
  },
  {
   "cell_type": "code",
   "execution_count": null,
   "metadata": {},
   "outputs": [],
   "source": [
    "from sklearn.metrics import mean_squared_error\n",
    "import math\n",
    "\n",
    "trainScore = math.sqrt(mean_squared_error(original[look_back:(len(trainX)+look_back),4], trainPredict[:,4]))\n",
    "print('Train: %.2f RMSE' % (trainScore))\n",
    "\n",
    "testScore = math.sqrt(mean_squared_error(original[len(trainX)+(look_back*2)+1:,4], testPredict[:,4]))\n",
    "print('Test: %.2f RMSE' % (testScore))"
   ]
  },
  {
   "cell_type": "code",
   "execution_count": null,
   "metadata": {},
   "outputs": [],
   "source": [
    "plt.figure(figsize=(13, 5))\n",
    "plt.plot(original[:,4],label='original',color='red')\n",
    "plt.plot(trainPredict[:,4],label='prediction',color='blue')\n",
    "#plt.plot(testPredict[:,4])\n",
    "plt.show()\n",
    "plt.savefig('NorthAmerica_prediction_train_LSTM.png')"
   ]
  },
  {
   "cell_type": "code",
   "execution_count": null,
   "metadata": {},
   "outputs": [],
   "source": [
    "plt.figure(figsize=(13, 5))\n",
    "plt.plot(original[:,3],color='red')\n",
    "plt.plot(testPredict[:,3],color='blue')\n",
    "plt.show()"
   ]
  },
  {
   "cell_type": "code",
   "execution_count": null,
   "metadata": {},
   "outputs": [],
   "source": [
    "start_date = pd.to_datetime(dates[0], format=\"%Y-%m-%d\")\n",
    "end_date = pd.to_datetime(dates[len(dates)-2], format=\"%Y-%m-%d\")\n",
    "start_date = start_date\n",
    "end_date = end_date + pd.DateOffset(days=1)\n",
    "date_range = pd.date_range(start_date, end_date)\n",
    "print(date_range.shape)\n",
    "fig, ax = plt.subplots(figsize=(12, 4))\n",
    "\n",
    "ax.plot(date_range[:1636],original[:,4], label=\"observation\",color='red')\n",
    "ax.plot(date_range[:1224], trainPredict[:,4], label=\"prediction\",color='blue')\n",
    "ax.legend()\n",
    "ax.set_title(f\"Filling missing values from 1968 to 1973\")\n",
    "ax.xaxis.set_tick_params(rotation=90)\n",
    "ax.set_xlabel(\"Date\")\n",
    "_ = ax.set_ylabel(\"Discharge (mm/d)\")\n",
    "plt.show()\n"
   ]
  },
  {
   "cell_type": "markdown",
   "metadata": {},
   "source": []
  },
  {
   "cell_type": "raw",
   "metadata": {},
   "source": [
    "all_methods = pd.read_csv('Data.txt', sep='\\t', index_col=0, parse_dates=True)\n",
    "all_methods_2 = all_methods.loc['1968-05-01':'1972-10-31']"
   ]
  },
  {
   "cell_type": "code",
   "execution_count": null,
   "metadata": {},
   "outputs": [],
   "source": [
    "all_methods_2.head()"
   ]
  },
  {
   "cell_type": "code",
   "execution_count": null,
   "metadata": {},
   "outputs": [],
   "source": [
    "dates = all_methods_2.index.values.tolist()"
   ]
  },
  {
   "cell_type": "code",
   "execution_count": null,
   "metadata": {},
   "outputs": [],
   "source": [
    "observation = all_methods_2.loc[:,'Observation']\n",
    "prediction =all_methods_2.loc[:,['Interpolation','Kalman','Locf','Mean','MovingAverage']]"
   ]
  },
  {
   "cell_type": "code",
   "execution_count": null,
   "metadata": {},
   "outputs": [],
   "source": [
    "prediction.head()"
   ]
  },
  {
   "cell_type": "code",
   "execution_count": null,
   "metadata": {},
   "outputs": [],
   "source": [
    "start_date = pd.to_datetime(dates[0], format=\"%Y-%m-%d\")\n",
    "end_date = pd.to_datetime(dates[len(dates)-2], format=\"%Y-%m-%d\")\n",
    "start_date = start_date\n",
    "end_date = end_date + pd.DateOffset(days=1)\n",
    "date_range = pd.date_range(start_date, end_date)\n",
    "print(date_range.shape)\n",
    "fig, ax = plt.subplots(figsize=(12, 4))\n",
    "\n",
    "ax.plot(date_range,observation, label=\"observation\",color='red')\n",
    "\n",
    "#ax.plot(date_range, prediction['Interpolation'], label=\"Interpolation\",color='blue',linestyle='dashed')\n",
    "#ax.plot(date_range, prediction['Kalman'], label=\"Kalman\",color='green',linestyle='dashed')\n",
    "#ax.plot(date_range, prediction['Locf'], label=\"Locf\",color='purple',linestyle='dashed')\n",
    "#ax.plot(date_range, prediction['MovingAverage'], label=\"MovingAverage\",color='black',linestyle='dashed')\n",
    "ax.plot(date_range, prediction['Mean'], label=\"Mean\",color='gray',linestyle='dashed')\n",
    "\n",
    "ax.legend()\n",
    "ax.set_title(f\"Filling missing values from 1968 to 1973\")\n",
    "ax.xaxis.set_tick_params(rotation=90)\n",
    "ax.set_xlabel(\"Date\")\n",
    "_ = ax.set_ylabel(\"Discharge (mm/d)\")\n",
    "plt.show()\n"
   ]
  },
  {
   "cell_type": "code",
   "execution_count": null,
   "metadata": {},
   "outputs": [],
   "source": []
  }
 ],
 "metadata": {
  "kernelspec": {
   "display_name": "venv_kernel",
   "language": "python",
   "name": "venv_kernel"
  },
  "language_info": {
   "codemirror_mode": {
    "name": "ipython",
    "version": 3
   },
   "file_extension": ".py",
   "mimetype": "text/x-python",
   "name": "python",
   "nbconvert_exporter": "python",
   "pygments_lexer": "ipython3",
   "version": "3.6.10"
  }
 },
 "nbformat": 4,
 "nbformat_minor": 4
}
